{
 "cells": [
  {
   "cell_type": "markdown",
   "id": "25b2b1e6",
   "metadata": {},
   "source": [
    "# Julia Basics 1"
   ]
  },
  {
   "cell_type": "markdown",
   "id": "3dc15bc5",
   "metadata": {},
   "source": [
    "## Variables. Printing and Commenting"
   ]
  },
  {
   "cell_type": "code",
   "execution_count": 1,
   "id": "2419c6b2",
   "metadata": {},
   "outputs": [
    {
     "name": "stdout",
     "output_type": "stream",
     "text": [
      "Hello, World!\n"
     ]
    }
   ],
   "source": [
    "# This is a comment\n",
    "s = \"Hello, World!\"\n",
    "println(s)"
   ]
  },
  {
   "cell_type": "markdown",
   "id": "52566c6b",
   "metadata": {},
   "source": [
    "## Loops"
   ]
  },
  {
   "cell_type": "code",
   "execution_count": 2,
   "id": "cec993cd",
   "metadata": {},
   "outputs": [
    {
     "name": "stdout",
     "output_type": "stream",
     "text": [
      "3\n",
      "5\n",
      "7\n",
      "9\n",
      "11\n",
      "13\n",
      "15\n",
      "17\n",
      "19\n",
      "21\n"
     ]
    }
   ],
   "source": [
    "i = 1\n",
    "\n",
    "while i < 20\n",
    "    global i += 2\n",
    "    println(i)\n",
    "end"
   ]
  },
  {
   "cell_type": "code",
   "execution_count": 6,
   "id": "9fb45001",
   "metadata": {},
   "outputs": [
    {
     "name": "stdout",
     "output_type": "stream",
     "text": [
      "0\n",
      "2\n",
      "4\n",
      "6\n",
      "8\n",
      "10\n"
     ]
    }
   ],
   "source": [
    "for i = 0:2:10\n",
    "    println(i)\n",
    "end"
   ]
  },
  {
   "cell_type": "code",
   "execution_count": null,
   "id": "1e1c5b49",
   "metadata": {},
   "outputs": [],
   "source": [
    "for i in [2, 4, 6, 8]\n",
    "    println(i)\n",
    "end"
   ]
  }
 ],
 "metadata": {
  "kernelspec": {
   "display_name": "Julia 1.11.1",
   "language": "julia",
   "name": "julia-1.11"
  },
  "language_info": {
   "file_extension": ".jl",
   "mimetype": "application/julia",
   "name": "julia",
   "version": "1.11.1"
  }
 },
 "nbformat": 4,
 "nbformat_minor": 5
}
